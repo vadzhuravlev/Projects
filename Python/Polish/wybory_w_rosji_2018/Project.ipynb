{
 "cells": [
  {
   "cell_type": "markdown",
   "metadata": {},
   "source": [
    "# Projekt zaliczeniowy\n",
    "\n",
    "Celem niniejszego projektu jest analiza i poszukiwanie anomalii w danych z datasetu z wyborów w Rosji w 2018 roku oraz nauczenie kilku algorytmów Superviced Learning dla przepowiadania wyników wyborów w lokalach wyborczych. \n",
    "Dataset składa się z 23 kolumn:\n",
    "- region_name: nazwa regionu, w którym znajdował się lokal wyborczy\n",
    "- tik_name: nazwa terytorialnej komisji wyborczej (często oparta na nazwie dzielnicy)\n",
    "- uik_name: nazwa lokalu wyborczego (lokalna komisja wyborcza)\n",
    "- registered_voters: liczba wyborców powiązanych z tym lokalem wyborczym\n",
    "- received_ballots: liczba pustych kart do głosowania otrzymanych od terytorialnej komisji wyborczej\n",
    "- early_voting_ballots: liczba kart do głosowania oddanych wyborcom, którzy chcieli głosować przed datą główną\n",
    "- onsite_ballots: liczba kart do głosowania oddanych wyborcom w lokalu wyborczym\n",
    "- offsite_ballots: liczba kart do głosowania oddanych wyborcom, którzy chcieli głosować poza miejscem wyborów (głosowanie w domu)\n",
    "- unused_ballots: liczba kart do głosowania, które były jeszcze niewykorzystane pod koniec dnia wyborów\n",
    "- found_offsite_ballots: liczba kart do głosowania, które znaleziono w urnach wyborczych poza siedzibą\n",
    "- found_onsite_ballots: liczba kart do głosowania, które znaleziono w urnach wyborczych w miejscu do głosowania\n",
    "- invalid_ballots: liczba kart do głosowania uznanych za nieważne (więcej niż jeden wybór, obrazy itp.)\n",
    "- valid_ballots: liczba kart do głosowania uznanych za ważne (tylko jeden wybór)\n",
    "- lost_ballots: liczba kart do głosowania, które zostały zgubione (received_ballots - (onsite_ballots + offsite_ballots + unused_ballots))\n",
    "- unaccounted_ballots: liczba kart do głosowania, która nie została uwzględniona w momencie otrzymania  (-1 * lost_ballots, jeżeli lost_ballots < 0)\n",
    "- baburin: liczba głosów na Baburina Siergieja Nikołajewicza\n",
    "- grudinin: liczba głosów na Grudinina Pawła Nikołajewicza\n",
    "- zhirinovsky: liczba głosów na Żyrinowski'ego Władimira Wolfowicza\n",
    "- putin: liczba głosów na Putina Władimira Władimirowicza\n",
    "- sobchak: liczba głosów na Sobczak Ksenię Anatolijewną\n",
    "- suraykin: liczba głosów na Suraykina Maxima Alexandrovicha\n",
    "- titov: liczba głosów na Tytowa Borysa Jurjewicza\n",
    "- yavlinsky: liczba głosów na Yavlinsky'ego Grigoriya Alexeevicha"
   ]
  },
  {
   "cell_type": "markdown",
   "metadata": {},
   "source": [
    "## Importy potrzebnych modułów"
   ]
  },
  {
   "cell_type": "code",
   "execution_count": 2,
   "metadata": {},
   "outputs": [
    {
     "name": "stderr",
     "output_type": "stream",
     "text": [
      "/home/vazh/anaconda3/lib/python3.7/site-packages/joblib/_multiprocessing_helpers.py:38: UserWarning: [Errno 13] Permission denied.  joblib will operate in serial mode\n",
      "  warnings.warn('%s.  joblib will operate in serial mode' % (e,))\n"
     ]
    }
   ],
   "source": [
    "import numpy as np\n",
    "import pandas as pd\n",
    "import matplotlib.pyplot as plt\n",
    "import seaborn as sns\n",
    "\n",
    "%matplotlib inline"
   ]
  },
  {
   "cell_type": "markdown",
   "metadata": {},
   "source": [
    "## Pobieranie danych"
   ]
  },
  {
   "cell_type": "code",
   "execution_count": 3,
   "metadata": {},
   "outputs": [
    {
     "data": {
      "text/html": [
       "<div>\n",
       "<style scoped>\n",
       "    .dataframe tbody tr th:only-of-type {\n",
       "        vertical-align: middle;\n",
       "    }\n",
       "\n",
       "    .dataframe tbody tr th {\n",
       "        vertical-align: top;\n",
       "    }\n",
       "\n",
       "    .dataframe thead th {\n",
       "        text-align: right;\n",
       "    }\n",
       "</style>\n",
       "<table border=\"1\" class=\"dataframe\">\n",
       "  <thead>\n",
       "    <tr style=\"text-align: right;\">\n",
       "      <th></th>\n",
       "      <th>region_name</th>\n",
       "      <th>tik_name</th>\n",
       "      <th>uik_name</th>\n",
       "      <th>registered_voters</th>\n",
       "      <th>received_ballots</th>\n",
       "      <th>early_voting_ballots</th>\n",
       "      <th>onsite_ballots</th>\n",
       "      <th>offsite_ballots</th>\n",
       "      <th>unused_ballots</th>\n",
       "      <th>found_offsite_ballots</th>\n",
       "      <th>...</th>\n",
       "      <th>lost_ballots</th>\n",
       "      <th>unaccounted_ballots</th>\n",
       "      <th>baburin</th>\n",
       "      <th>grudinin</th>\n",
       "      <th>zhirinovsky</th>\n",
       "      <th>putin</th>\n",
       "      <th>sobchak</th>\n",
       "      <th>suraykin</th>\n",
       "      <th>titov</th>\n",
       "      <th>yavlinsky</th>\n",
       "    </tr>\n",
       "  </thead>\n",
       "  <tbody>\n",
       "    <tr>\n",
       "      <th>0</th>\n",
       "      <td>98 Город Байконур (Республика Казахстан)</td>\n",
       "      <td>98 Город Байконур (Республика Казахстан)</td>\n",
       "      <td>УИК №8140</td>\n",
       "      <td>2132</td>\n",
       "      <td>2000</td>\n",
       "      <td>0</td>\n",
       "      <td>1447</td>\n",
       "      <td>11</td>\n",
       "      <td>542</td>\n",
       "      <td>11</td>\n",
       "      <td>...</td>\n",
       "      <td>0</td>\n",
       "      <td>0</td>\n",
       "      <td>4</td>\n",
       "      <td>176</td>\n",
       "      <td>79</td>\n",
       "      <td>1136</td>\n",
       "      <td>30</td>\n",
       "      <td>9</td>\n",
       "      <td>5</td>\n",
       "      <td>10</td>\n",
       "    </tr>\n",
       "    <tr>\n",
       "      <th>1</th>\n",
       "      <td>98 Город Байконур (Республика Казахстан)</td>\n",
       "      <td>98 Город Байконур (Республика Казахстан)</td>\n",
       "      <td>УИК №8141</td>\n",
       "      <td>2207</td>\n",
       "      <td>2000</td>\n",
       "      <td>0</td>\n",
       "      <td>1470</td>\n",
       "      <td>14</td>\n",
       "      <td>516</td>\n",
       "      <td>14</td>\n",
       "      <td>...</td>\n",
       "      <td>0</td>\n",
       "      <td>0</td>\n",
       "      <td>2</td>\n",
       "      <td>128</td>\n",
       "      <td>87</td>\n",
       "      <td>1214</td>\n",
       "      <td>19</td>\n",
       "      <td>4</td>\n",
       "      <td>7</td>\n",
       "      <td>9</td>\n",
       "    </tr>\n",
       "    <tr>\n",
       "      <th>2</th>\n",
       "      <td>98 Город Байконур (Республика Казахстан)</td>\n",
       "      <td>98 Город Байконур (Республика Казахстан)</td>\n",
       "      <td>УИК №8142</td>\n",
       "      <td>2249</td>\n",
       "      <td>2000</td>\n",
       "      <td>0</td>\n",
       "      <td>1490</td>\n",
       "      <td>7</td>\n",
       "      <td>503</td>\n",
       "      <td>7</td>\n",
       "      <td>...</td>\n",
       "      <td>0</td>\n",
       "      <td>0</td>\n",
       "      <td>5</td>\n",
       "      <td>171</td>\n",
       "      <td>94</td>\n",
       "      <td>1162</td>\n",
       "      <td>17</td>\n",
       "      <td>3</td>\n",
       "      <td>12</td>\n",
       "      <td>6</td>\n",
       "    </tr>\n",
       "    <tr>\n",
       "      <th>3</th>\n",
       "      <td>98 Город Байконур (Республика Казахстан)</td>\n",
       "      <td>98 Город Байконур (Республика Казахстан)</td>\n",
       "      <td>УИК №8143</td>\n",
       "      <td>1769</td>\n",
       "      <td>1500</td>\n",
       "      <td>0</td>\n",
       "      <td>1065</td>\n",
       "      <td>48</td>\n",
       "      <td>387</td>\n",
       "      <td>48</td>\n",
       "      <td>...</td>\n",
       "      <td>0</td>\n",
       "      <td>0</td>\n",
       "      <td>5</td>\n",
       "      <td>98</td>\n",
       "      <td>72</td>\n",
       "      <td>882</td>\n",
       "      <td>17</td>\n",
       "      <td>8</td>\n",
       "      <td>5</td>\n",
       "      <td>6</td>\n",
       "    </tr>\n",
       "    <tr>\n",
       "      <th>4</th>\n",
       "      <td>98 Город Байконур (Республика Казахстан)</td>\n",
       "      <td>98 Город Байконур (Республика Казахстан)</td>\n",
       "      <td>УИК №8144</td>\n",
       "      <td>1880</td>\n",
       "      <td>1500</td>\n",
       "      <td>0</td>\n",
       "      <td>1171</td>\n",
       "      <td>13</td>\n",
       "      <td>316</td>\n",
       "      <td>13</td>\n",
       "      <td>...</td>\n",
       "      <td>0</td>\n",
       "      <td>0</td>\n",
       "      <td>7</td>\n",
       "      <td>124</td>\n",
       "      <td>105</td>\n",
       "      <td>902</td>\n",
       "      <td>7</td>\n",
       "      <td>9</td>\n",
       "      <td>10</td>\n",
       "      <td>10</td>\n",
       "    </tr>\n",
       "  </tbody>\n",
       "</table>\n",
       "<p>5 rows × 23 columns</p>\n",
       "</div>"
      ],
      "text/plain": [
       "                                region_name  \\\n",
       "0  98 Город Байконур (Республика Казахстан)   \n",
       "1  98 Город Байконур (Республика Казахстан)   \n",
       "2  98 Город Байконур (Республика Казахстан)   \n",
       "3  98 Город Байконур (Республика Казахстан)   \n",
       "4  98 Город Байконур (Республика Казахстан)   \n",
       "\n",
       "                                   tik_name   uik_name  registered_voters  \\\n",
       "0  98 Город Байконур (Республика Казахстан)  УИК №8140               2132   \n",
       "1  98 Город Байконур (Республика Казахстан)  УИК №8141               2207   \n",
       "2  98 Город Байконур (Республика Казахстан)  УИК №8142               2249   \n",
       "3  98 Город Байконур (Республика Казахстан)  УИК №8143               1769   \n",
       "4  98 Город Байконур (Республика Казахстан)  УИК №8144               1880   \n",
       "\n",
       "   received_ballots  early_voting_ballots  onsite_ballots  offsite_ballots  \\\n",
       "0              2000                     0            1447               11   \n",
       "1              2000                     0            1470               14   \n",
       "2              2000                     0            1490                7   \n",
       "3              1500                     0            1065               48   \n",
       "4              1500                     0            1171               13   \n",
       "\n",
       "   unused_ballots  found_offsite_ballots  ...  lost_ballots  \\\n",
       "0             542                     11  ...             0   \n",
       "1             516                     14  ...             0   \n",
       "2             503                      7  ...             0   \n",
       "3             387                     48  ...             0   \n",
       "4             316                     13  ...             0   \n",
       "\n",
       "   unaccounted_ballots  baburin  grudinin  zhirinovsky  putin  sobchak  \\\n",
       "0                    0        4       176           79   1136       30   \n",
       "1                    0        2       128           87   1214       19   \n",
       "2                    0        5       171           94   1162       17   \n",
       "3                    0        5        98           72    882       17   \n",
       "4                    0        7       124          105    902        7   \n",
       "\n",
       "   suraykin  titov  yavlinsky  \n",
       "0         9      5         10  \n",
       "1         4      7          9  \n",
       "2         3     12          6  \n",
       "3         8      5          6  \n",
       "4         9     10         10  \n",
       "\n",
       "[5 rows x 23 columns]"
      ]
     },
     "execution_count": 3,
     "metadata": {},
     "output_type": "execute_result"
    }
   ],
   "source": [
    "data = pd.read_csv(\"uiks-utf8.csv\")\n",
    "data.head()"
   ]
  },
  {
   "cell_type": "code",
   "execution_count": 4,
   "metadata": {},
   "outputs": [
    {
     "name": "stdout",
     "output_type": "stream",
     "text": [
      "<class 'pandas.core.frame.DataFrame'>\n",
      "RangeIndex: 97705 entries, 0 to 97704\n",
      "Data columns (total 23 columns):\n",
      "region_name              97705 non-null object\n",
      "tik_name                 97705 non-null object\n",
      "uik_name                 97705 non-null object\n",
      "registered_voters        97705 non-null int64\n",
      "received_ballots         97705 non-null int64\n",
      "early_voting_ballots     97705 non-null int64\n",
      "onsite_ballots           97705 non-null int64\n",
      "offsite_ballots          97705 non-null int64\n",
      "unused_ballots           97705 non-null int64\n",
      "found_offsite_ballots    97705 non-null int64\n",
      "found_onsite_ballots     97705 non-null int64\n",
      "invalid_ballots          97705 non-null int64\n",
      "valid_ballots            97705 non-null int64\n",
      "lost_ballots             97705 non-null int64\n",
      "unaccounted_ballots      97705 non-null int64\n",
      "baburin                  97705 non-null int64\n",
      "grudinin                 97705 non-null int64\n",
      "zhirinovsky              97705 non-null int64\n",
      "putin                    97705 non-null int64\n",
      "sobchak                  97705 non-null int64\n",
      "suraykin                 97705 non-null int64\n",
      "titov                    97705 non-null int64\n",
      "yavlinsky                97705 non-null int64\n",
      "dtypes: int64(20), object(3)\n",
      "memory usage: 17.1+ MB\n"
     ]
    }
   ],
   "source": [
    "data.info()"
   ]
  },
  {
   "cell_type": "markdown",
   "metadata": {},
   "source": [
    "Otrzymany dataset nie zawiera NaN znaczeń, dlatego można przestąpić do analizy danych."
   ]
  },
  {
   "cell_type": "markdown",
   "metadata": {},
   "source": [
    "## Ile osób w ogóle brało udział w wyborach?"
   ]
  },
  {
   "cell_type": "code",
   "execution_count": 5,
   "metadata": {},
   "outputs": [
    {
     "name": "stdout",
     "output_type": "stream",
     "text": [
      "W wyborach brało udział 72796250 osób, czyli 66.77% od całej ilości wyborców.\n"
     ]
    }
   ],
   "source": [
    "num_of_pot_vot = data[\"registered_voters\"].sum()\n",
    "num_of_vot = data[\"valid_ballots\"].sum()\n",
    "print(\"W wyborach brało udział {} osób, czyli {r:.2f}% od całej ilości wyborców.\".format(num_of_vot, r = 100*num_of_vot/num_of_pot_vot))"
   ]
  },
  {
   "cell_type": "markdown",
   "metadata": {},
   "source": [
    "## W których regionach najwięcej i najmniej osób przyszło na wybory?"
   ]
  },
  {
   "cell_type": "code",
   "execution_count": 6,
   "metadata": {},
   "outputs": [
    {
     "data": {
      "text/html": [
       "<div>\n",
       "<style scoped>\n",
       "    .dataframe tbody tr th:only-of-type {\n",
       "        vertical-align: middle;\n",
       "    }\n",
       "\n",
       "    .dataframe tbody tr th {\n",
       "        vertical-align: top;\n",
       "    }\n",
       "\n",
       "    .dataframe thead th {\n",
       "        text-align: right;\n",
       "    }\n",
       "</style>\n",
       "<table border=\"1\" class=\"dataframe\">\n",
       "  <thead>\n",
       "    <tr style=\"text-align: right;\">\n",
       "      <th></th>\n",
       "      <th>registered_voters</th>\n",
       "      <th>valid_ballots</th>\n",
       "      <th>voters_prc</th>\n",
       "    </tr>\n",
       "    <tr>\n",
       "      <th>region_name</th>\n",
       "      <th></th>\n",
       "      <th></th>\n",
       "      <th></th>\n",
       "    </tr>\n",
       "  </thead>\n",
       "  <tbody>\n",
       "    <tr>\n",
       "      <th>99 Территория за пределами РФ</th>\n",
       "      <td>493139</td>\n",
       "      <td>469542</td>\n",
       "      <td>0.952149</td>\n",
       "    </tr>\n",
       "    <tr>\n",
       "      <th>Республика Тыва</th>\n",
       "      <td>175102</td>\n",
       "      <td>162780</td>\n",
       "      <td>0.929630</td>\n",
       "    </tr>\n",
       "    <tr>\n",
       "      <th>Кабардино-Балкарская Республика</th>\n",
       "      <td>528431</td>\n",
       "      <td>483932</td>\n",
       "      <td>0.915790</td>\n",
       "    </tr>\n",
       "    <tr>\n",
       "      <th>Ямало-Ненецкий автономный округ</th>\n",
       "      <td>370823</td>\n",
       "      <td>338067</td>\n",
       "      <td>0.911667</td>\n",
       "    </tr>\n",
       "    <tr>\n",
       "      <th>Чеченская Республика</th>\n",
       "      <td>709635</td>\n",
       "      <td>646885</td>\n",
       "      <td>0.911574</td>\n",
       "    </tr>\n",
       "  </tbody>\n",
       "</table>\n",
       "</div>"
      ],
      "text/plain": [
       "                                 registered_voters  valid_ballots  voters_prc\n",
       "region_name                                                                  \n",
       "99 Территория за пределами РФ               493139         469542    0.952149\n",
       "Республика Тыва                             175102         162780    0.929630\n",
       "Кабардино-Балкарская Республика             528431         483932    0.915790\n",
       "Ямало-Ненецкий автономный округ             370823         338067    0.911667\n",
       "Чеченская Республика                        709635         646885    0.911574"
      ]
     },
     "execution_count": 6,
     "metadata": {},
     "output_type": "execute_result"
    }
   ],
   "source": [
    "regions_sum = data.groupby('region_name').sum()\n",
    "regions_sum['voters_prc'] = regions_sum['valid_ballots']/regions_sum['registered_voters']\n",
    "regions_sum.sort_values(by = 'voters_prc', ascending =  False)[['registered_voters', 'valid_ballots', 'voters_prc']].head()"
   ]
  },
  {
   "cell_type": "code",
   "execution_count": 7,
   "metadata": {},
   "outputs": [
    {
     "data": {
      "text/html": [
       "<div>\n",
       "<style scoped>\n",
       "    .dataframe tbody tr th:only-of-type {\n",
       "        vertical-align: middle;\n",
       "    }\n",
       "\n",
       "    .dataframe tbody tr th {\n",
       "        vertical-align: top;\n",
       "    }\n",
       "\n",
       "    .dataframe thead th {\n",
       "        text-align: right;\n",
       "    }\n",
       "</style>\n",
       "<table border=\"1\" class=\"dataframe\">\n",
       "  <thead>\n",
       "    <tr style=\"text-align: right;\">\n",
       "      <th></th>\n",
       "      <th>registered_voters</th>\n",
       "      <th>valid_ballots</th>\n",
       "      <th>voters_prc</th>\n",
       "    </tr>\n",
       "    <tr>\n",
       "      <th>region_name</th>\n",
       "      <th></th>\n",
       "      <th></th>\n",
       "      <th></th>\n",
       "    </tr>\n",
       "  </thead>\n",
       "  <tbody>\n",
       "    <tr>\n",
       "      <th>Иркутская область</th>\n",
       "      <td>1877547</td>\n",
       "      <td>1033973</td>\n",
       "      <td>0.550704</td>\n",
       "    </tr>\n",
       "    <tr>\n",
       "      <th>Республика Карелия</th>\n",
       "      <td>519667</td>\n",
       "      <td>293309</td>\n",
       "      <td>0.564417</td>\n",
       "    </tr>\n",
       "    <tr>\n",
       "      <th>Новгородская область</th>\n",
       "      <td>502905</td>\n",
       "      <td>284614</td>\n",
       "      <td>0.565940</td>\n",
       "    </tr>\n",
       "    <tr>\n",
       "      <th>Тверская область</th>\n",
       "      <td>1070221</td>\n",
       "      <td>609914</td>\n",
       "      <td>0.569895</td>\n",
       "    </tr>\n",
       "    <tr>\n",
       "      <th>Забайкальский край</th>\n",
       "      <td>790054</td>\n",
       "      <td>452268</td>\n",
       "      <td>0.572452</td>\n",
       "    </tr>\n",
       "  </tbody>\n",
       "</table>\n",
       "</div>"
      ],
      "text/plain": [
       "                      registered_voters  valid_ballots  voters_prc\n",
       "region_name                                                       \n",
       "Иркутская область               1877547        1033973    0.550704\n",
       "Республика Карелия               519667         293309    0.564417\n",
       "Новгородская область             502905         284614    0.565940\n",
       "Тверская область                1070221         609914    0.569895\n",
       "Забайкальский край               790054         452268    0.572452"
      ]
     },
     "execution_count": 7,
     "metadata": {},
     "output_type": "execute_result"
    }
   ],
   "source": [
    "regions_sum.sort_values(by = 'voters_prc')[['registered_voters', 'valid_ballots', 'voters_prc']].head()"
   ]
  },
  {
   "cell_type": "markdown",
   "metadata": {},
   "source": [
    "Ciekawe jest to, że największy procent wyborców jest dla 99 Terytorium poza Federacją Rosyjską: 95.21% od ilości osób powiązanych z tym regionem."
   ]
  },
  {
   "cell_type": "markdown",
   "metadata": {},
   "source": [
    "## Czy całkowita ilość kart wyborczych się zgadza?\n",
    "\n",
    "Inaczej mówiąc, czy ilość pustych kart wyborczych w lokalach wyborczych zgadza się z sumą ilości kart wyborczych oddanych wyborcom w oraz poza lokalem wyborczym i ilością kart wyborczych niewykorzystanych?"
   ]
  },
  {
   "cell_type": "code",
   "execution_count": 8,
   "metadata": {},
   "outputs": [
    {
     "name": "stdout",
     "output_type": "stream",
     "text": [
      "Zgubiono około 221112 kart wyborczych, czyli 0.21% od wszystkich kart wyborczych.\n"
     ]
    }
   ],
   "source": [
    "total_number_of_ballots = data[\"received_ballots\"].sum()\n",
    "total_number_of_used_and_unused_ballots = data[\"onsite_ballots\"].sum() + data[\"offsite_ballots\"].sum() + data[\"unused_ballots\"].sum()\n",
    "total_number_of_lost = total_number_of_ballots - total_number_of_used_and_unused_ballots\n",
    "print(\"Zgubiono około {} kart wyborczych, czyli {r:.2f}% od wszystkich kart wyborczych.\".format(total_number_of_lost, r = 100*total_number_of_lost/total_number_of_ballots))"
   ]
  },
  {
   "cell_type": "markdown",
   "metadata": {},
   "source": [
    "A według kolumny \"lost_ballots\":"
   ]
  },
  {
   "cell_type": "code",
   "execution_count": 9,
   "metadata": {},
   "outputs": [
    {
     "name": "stdout",
     "output_type": "stream",
     "text": [
      "Zgubiono około 1049 kart wyborczych, czyli 0.001% od wszystkich kart wyborczych.\n"
     ]
    }
   ],
   "source": [
    "print(\"Zgubiono około {} kart wyborczych, czyli {r:.3f}% od wszystkich kart wyborczych.\".format(data[\"lost_ballots\"].sum(), r = 100*data[\"lost_ballots\"].sum()/total_number_of_ballots))"
   ]
  },
  {
   "cell_type": "markdown",
   "metadata": {},
   "source": [
    "Czyli kolumna \"lost_ballots\" została stworzona niepoprawnie. Ponadto, nie ma sensu kolumna \"unaccounted_ballots\", bo według podanej definicji: -1 * lost_ballots jeżeli lost_ballots < 0:"
   ]
  },
  {
   "cell_type": "code",
   "execution_count": 10,
   "metadata": {},
   "outputs": [
    {
     "data": {
      "text/html": [
       "<div>\n",
       "<style scoped>\n",
       "    .dataframe tbody tr th:only-of-type {\n",
       "        vertical-align: middle;\n",
       "    }\n",
       "\n",
       "    .dataframe tbody tr th {\n",
       "        vertical-align: top;\n",
       "    }\n",
       "\n",
       "    .dataframe thead th {\n",
       "        text-align: right;\n",
       "    }\n",
       "</style>\n",
       "<table border=\"1\" class=\"dataframe\">\n",
       "  <thead>\n",
       "    <tr style=\"text-align: right;\">\n",
       "      <th></th>\n",
       "      <th>region_name</th>\n",
       "      <th>tik_name</th>\n",
       "      <th>uik_name</th>\n",
       "      <th>registered_voters</th>\n",
       "      <th>received_ballots</th>\n",
       "      <th>early_voting_ballots</th>\n",
       "      <th>onsite_ballots</th>\n",
       "      <th>offsite_ballots</th>\n",
       "      <th>unused_ballots</th>\n",
       "      <th>found_offsite_ballots</th>\n",
       "      <th>...</th>\n",
       "      <th>lost_ballots</th>\n",
       "      <th>unaccounted_ballots</th>\n",
       "      <th>baburin</th>\n",
       "      <th>grudinin</th>\n",
       "      <th>zhirinovsky</th>\n",
       "      <th>putin</th>\n",
       "      <th>sobchak</th>\n",
       "      <th>suraykin</th>\n",
       "      <th>titov</th>\n",
       "      <th>yavlinsky</th>\n",
       "    </tr>\n",
       "  </thead>\n",
       "  <tbody>\n",
       "  </tbody>\n",
       "</table>\n",
       "<p>0 rows × 23 columns</p>\n",
       "</div>"
      ],
      "text/plain": [
       "Empty DataFrame\n",
       "Columns: [region_name, tik_name, uik_name, registered_voters, received_ballots, early_voting_ballots, onsite_ballots, offsite_ballots, unused_ballots, found_offsite_ballots, found_onsite_ballots, invalid_ballots, valid_ballots, lost_ballots, unaccounted_ballots, baburin, grudinin, zhirinovsky, putin, sobchak, suraykin, titov, yavlinsky]\n",
       "Index: []\n",
       "\n",
       "[0 rows x 23 columns]"
      ]
     },
     "execution_count": 10,
     "metadata": {},
     "output_type": "execute_result"
    }
   ],
   "source": [
    "data[data[\"lost_ballots\"]<0]"
   ]
  },
  {
   "cell_type": "markdown",
   "metadata": {},
   "source": [
    "Czyli nie ma ujemnych wartości, dlatego nie powinno być żadnych wartości w \"unaccounted_ballots\"."
   ]
  },
  {
   "cell_type": "code",
   "execution_count": 11,
   "metadata": {},
   "outputs": [
    {
     "data": {
      "text/plain": [
       "104"
      ]
     },
     "execution_count": 11,
     "metadata": {},
     "output_type": "execute_result"
    }
   ],
   "source": [
    "data[\"unaccounted_ballots\"].sum()"
   ]
  },
  {
   "cell_type": "markdown",
   "metadata": {},
   "source": [
    "Jednak one są. Wszystko się sprowadza do tego, że kolumna \"lost_ballots\" została źle stworzona. Dlatego powtórnie stworzono kolumnę \"lost_ballots\" według podanej definincji: lost_ballots = received_ballots - (onsite_ballots + offsite_ballots + unused_ballots)."
   ]
  },
  {
   "cell_type": "code",
   "execution_count": 12,
   "metadata": {},
   "outputs": [],
   "source": [
    "data[\"lost_ballots\"] = data[\"received_ballots\"] - data[\"onsite_ballots\"] - data[\"offsite_ballots\"] - data[\"unused_ballots\"]"
   ]
  },
  {
   "cell_type": "markdown",
   "metadata": {},
   "source": [
    "I powtórnie sprawdzono, jak to wygląda według kolumny \"lost_ballots\":"
   ]
  },
  {
   "cell_type": "code",
   "execution_count": 13,
   "metadata": {},
   "outputs": [
    {
     "name": "stdout",
     "output_type": "stream",
     "text": [
      "Zgubiono około 221112 kart wyborczych, czyli 0.21% od wszystkich kart wyborczych\n"
     ]
    }
   ],
   "source": [
    "print(\"Zgubiono około {} kart wyborczych, czyli {r:.2f}% od wszystkich kart wyborczych\".format(data[\"lost_ballots\"].sum(), r = 100*data[\"lost_ballots\"].sum()/total_number_of_ballots))"
   ]
  },
  {
   "cell_type": "markdown",
   "metadata": {},
   "source": [
    "Czyli, teraz wynik jest poprawny. Ponadto powtórnie stworzono kolumnę \"unaccounted_ballots\" według podanej definicji: -1 * lost_ballots jeżeli lost_ballots < 0."
   ]
  },
  {
   "cell_type": "code",
   "execution_count": 14,
   "metadata": {},
   "outputs": [
    {
     "data": {
      "text/plain": [
       "40"
      ]
     },
     "execution_count": 14,
     "metadata": {},
     "output_type": "execute_result"
    }
   ],
   "source": [
    "data[\"unaccounted_ballots\"] = data[\"lost_ballots\"].apply(lambda x: -x if x<0 else 0)\n",
    "data[\"unaccounted_ballots\"].sum()"
   ]
  },
  {
   "cell_type": "markdown",
   "metadata": {},
   "source": [
    "## Jak wygląda sytuacja z ilościami głosów na kandydatów?"
   ]
  },
  {
   "cell_type": "code",
   "execution_count": 15,
   "metadata": {},
   "outputs": [
    {
     "data": {
      "text/plain": [
       "Index(['region_name', 'tik_name', 'uik_name', 'registered_voters',\n",
       "       'received_ballots', 'early_voting_ballots', 'onsite_ballots',\n",
       "       'offsite_ballots', 'unused_ballots', 'found_offsite_ballots',\n",
       "       'found_onsite_ballots', 'invalid_ballots', 'valid_ballots',\n",
       "       'lost_ballots', 'unaccounted_ballots', 'baburin', 'grudinin',\n",
       "       'zhirinovsky', 'putin', 'sobchak', 'suraykin', 'titov', 'yavlinsky'],\n",
       "      dtype='object')"
      ]
     },
     "execution_count": 15,
     "metadata": {},
     "output_type": "execute_result"
    }
   ],
   "source": [
    "data.columns"
   ]
  },
  {
   "cell_type": "code",
   "execution_count": 4,
   "metadata": {},
   "outputs": [
    {
     "data": {
      "image/png": "[encoded data removed]",
      "text/plain": [
       "<Figure size 720x432 with 1 Axes>"
      ]
     },
     "metadata": {},
     "output_type": "display_data"
    }
   ],
   "source": [
    "col_with_cand = ['baburin', 'grudinin',\n",
    "       'zhirinovsky', 'putin', 'sobchak', 'suraykin', 'titov', 'yavlinsky']\n",
    "number_of_votes = [data[col].sum() for col in col_with_cand]\n",
    "results_votes = pd.DataFrame()\n",
    "results_votes['number_of_votes'] = number_of_votes\n",
    "results_votes['candidates'] = col_with_cand\n",
    "results_votes.sort_values(by = \"number_of_votes\", ascending = False, inplace = True)\n",
    "sns.set_style('darkgrid')\n",
    "fig = plt.figure(figsize = (10,6))\n",
    "sns.barplot(x = 'candidates', y = 'number_of_votes', data = results_votes)\n",
    "plt.tight_layout()"
   ]
  },
  {
   "cell_type": "markdown",
   "metadata": {},
   "source": [
    "Pierwsze miejsce zajmuje Putin Władimir Władimirowicz, który ma zdecydowanie większą ilość głosów w porównaniu do innych kandydatów. Następnie idzie Grudinin Paweł Nikołajewicz oraz Baburin Siergiej Nikołajewicz. Inni kandydaci mają znacznie mniej głosów."
   ]
  },
  {
   "cell_type": "markdown",
   "metadata": {},
   "source": [
    "## W ilu lokalach wyborczych zajmuje pierwsze miejsce każdy kandydat?"
   ]
  },
  {
   "cell_type": "code",
   "execution_count": 17,
   "metadata": {},
   "outputs": [
    {
     "data": {
      "image/png": "[encoded data removed]",
      "text/plain": [
       "<Figure size 720x432 with 1 Axes>"
      ]
     },
     "metadata": {},
     "output_type": "display_data"
    }
   ],
   "source": [
    "start_count = np.zeros(8, dtype = int)\n",
    "\n",
    "results_by_uik =  pd.DataFrame(index = col_with_cand)\n",
    "results_by_uik[\"count\"] = start_count\n",
    "for index in data.index:\n",
    "    max_index = data[col_with_cand].iloc[index].idxmax()\n",
    "    results_by_uik.loc[max_index]+=1\n",
    "results_by_uik.reset_index(inplace = True)\n",
    "results_by_uik.columns = ['candydates', 'count']\n",
    "results_by_uik.sort_values(by = \"count\", ascending = False, inplace = True)\n",
    "sns.set_style('darkgrid')\n",
    "fig = plt.figure(figsize = (10,6))\n",
    "sns.barplot(x = 'candydates', y = 'count', data = results_by_uik)\n",
    "plt.tight_layout()"
   ]
  },
  {
   "cell_type": "code",
   "execution_count": 18,
   "metadata": {},
   "outputs": [
    {
     "name": "stdout",
     "output_type": "stream",
     "text": [
      "Władimir Putin zajmuje pierwsze miejsce w 97566, czyli 99.86% od ilości wszystkich lokali wyborczych.\n"
     ]
    }
   ],
   "source": [
    "print(\"Władimir Putin zajmuje pierwsze miejsce w {}, czyli {r:.2f}% od ilości wszystkich lokali wyborczych.\".format(results_by_uik[results_by_uik['candydates']== 'putin']['count'].iloc[0], r = 100*results_by_uik[results_by_uik['candydates']== 'putin']['count'].iloc[0]/results_by_uik['count'].sum()))"
   ]
  },
  {
   "cell_type": "code",
   "execution_count": 19,
   "metadata": {},
   "outputs": [
    {
     "data": {
      "text/html": [
       "<div>\n",
       "<style scoped>\n",
       "    .dataframe tbody tr th:only-of-type {\n",
       "        vertical-align: middle;\n",
       "    }\n",
       "\n",
       "    .dataframe tbody tr th {\n",
       "        vertical-align: top;\n",
       "    }\n",
       "\n",
       "    .dataframe thead th {\n",
       "        text-align: right;\n",
       "    }\n",
       "</style>\n",
       "<table border=\"1\" class=\"dataframe\">\n",
       "  <thead>\n",
       "    <tr style=\"text-align: right;\">\n",
       "      <th></th>\n",
       "      <th>candydates</th>\n",
       "      <th>count</th>\n",
       "    </tr>\n",
       "  </thead>\n",
       "  <tbody>\n",
       "    <tr>\n",
       "      <th>3</th>\n",
       "      <td>putin</td>\n",
       "      <td>97566</td>\n",
       "    </tr>\n",
       "    <tr>\n",
       "      <th>1</th>\n",
       "      <td>grudinin</td>\n",
       "      <td>100</td>\n",
       "    </tr>\n",
       "    <tr>\n",
       "      <th>2</th>\n",
       "      <td>zhirinovsky</td>\n",
       "      <td>36</td>\n",
       "    </tr>\n",
       "    <tr>\n",
       "      <th>0</th>\n",
       "      <td>baburin</td>\n",
       "      <td>3</td>\n",
       "    </tr>\n",
       "    <tr>\n",
       "      <th>4</th>\n",
       "      <td>sobchak</td>\n",
       "      <td>0</td>\n",
       "    </tr>\n",
       "  </tbody>\n",
       "</table>\n",
       "</div>"
      ],
      "text/plain": [
       "    candydates  count\n",
       "3        putin  97566\n",
       "1     grudinin    100\n",
       "2  zhirinovsky     36\n",
       "0      baburin      3\n",
       "4      sobchak      0"
      ]
     },
     "execution_count": 19,
     "metadata": {},
     "output_type": "execute_result"
    }
   ],
   "source": [
    "results_by_uik.head()"
   ]
  },
  {
   "cell_type": "markdown",
   "metadata": {},
   "source": [
    "Czyli tylko w 139 innych lokalach wyborczych wygrywa inny kandydat."
   ]
  },
  {
   "cell_type": "markdown",
   "metadata": {},
   "source": [
    "## W ilu lokalach wyborczych zajmuje drugie miejsce każdy kandydat?"
   ]
  },
  {
   "cell_type": "code",
   "execution_count": 20,
   "metadata": {},
   "outputs": [
    {
     "data": {
      "image/png": "[encoded data removed]",
      "text/plain": [
       "<Figure size 720x432 with 1 Axes>"
      ]
     },
     "metadata": {},
     "output_type": "display_data"
    }
   ],
   "source": [
    "start_count = np.zeros(8, dtype = int)\n",
    "results_by_uik_sec =  pd.DataFrame(index = col_with_cand)\n",
    "results_by_uik_sec[\"count\"] = start_count\n",
    "for index in data.index:\n",
    "    sec_max_index = data[col_with_cand].iloc[index].sort_values(ascending = False).index[1]\n",
    "    results_by_uik_sec.loc[sec_max_index]+=1\n",
    "results_by_uik_sec.reset_index(inplace = True)\n",
    "results_by_uik_sec.columns = ['candydates', 'count']\n",
    "results_by_uik_sec.sort_values(by = \"count\", ascending = False, inplace = True)\n",
    "sns.set_style('darkgrid')\n",
    "fig = plt.figure(figsize = (10,6))\n",
    "sns.barplot(x = 'candydates', y = 'count', data = results_by_uik_sec)\n",
    "plt.tight_layout()"
   ]
  },
  {
   "cell_type": "code",
   "execution_count": 21,
   "metadata": {},
   "outputs": [
    {
     "name": "stdout",
     "output_type": "stream",
     "text": [
      "Paweł Grudinin zajmuje drugie miejsce w 79017, czyli 80.87% od ilości wszystkich lokali wyborczych.\n"
     ]
    }
   ],
   "source": [
    "print(\"Paweł Grudinin zajmuje drugie miejsce w {}, czyli {r:.2f}% od ilości wszystkich lokali wyborczych.\".format(results_by_uik_sec[results_by_uik_sec['candydates']== 'grudinin']['count'].iloc[0], r = 100*results_by_uik_sec[results_by_uik_sec['candydates']== 'grudinin']['count'].iloc[0]/results_by_uik_sec['count'].sum()))"
   ]
  },
  {
   "cell_type": "code",
   "execution_count": 22,
   "metadata": {},
   "outputs": [
    {
     "data": {
      "text/html": [
       "<div>\n",
       "<style scoped>\n",
       "    .dataframe tbody tr th:only-of-type {\n",
       "        vertical-align: middle;\n",
       "    }\n",
       "\n",
       "    .dataframe tbody tr th {\n",
       "        vertical-align: top;\n",
       "    }\n",
       "\n",
       "    .dataframe thead th {\n",
       "        text-align: right;\n",
       "    }\n",
       "</style>\n",
       "<table border=\"1\" class=\"dataframe\">\n",
       "  <thead>\n",
       "    <tr style=\"text-align: right;\">\n",
       "      <th></th>\n",
       "      <th>candydates</th>\n",
       "      <th>count</th>\n",
       "    </tr>\n",
       "  </thead>\n",
       "  <tbody>\n",
       "    <tr>\n",
       "      <th>1</th>\n",
       "      <td>grudinin</td>\n",
       "      <td>79017</td>\n",
       "    </tr>\n",
       "    <tr>\n",
       "      <th>2</th>\n",
       "      <td>zhirinovsky</td>\n",
       "      <td>16928</td>\n",
       "    </tr>\n",
       "    <tr>\n",
       "      <th>4</th>\n",
       "      <td>sobchak</td>\n",
       "      <td>778</td>\n",
       "    </tr>\n",
       "    <tr>\n",
       "      <th>7</th>\n",
       "      <td>yavlinsky</td>\n",
       "      <td>380</td>\n",
       "    </tr>\n",
       "    <tr>\n",
       "      <th>5</th>\n",
       "      <td>suraykin</td>\n",
       "      <td>295</td>\n",
       "    </tr>\n",
       "  </tbody>\n",
       "</table>\n",
       "</div>"
      ],
      "text/plain": [
       "    candydates  count\n",
       "1     grudinin  79017\n",
       "2  zhirinovsky  16928\n",
       "4      sobchak    778\n",
       "7    yavlinsky    380\n",
       "5     suraykin    295"
      ]
     },
     "execution_count": 22,
     "metadata": {},
     "output_type": "execute_result"
    }
   ],
   "source": [
    "results_by_uik_sec.head()"
   ]
  },
  {
   "cell_type": "markdown",
   "metadata": {},
   "source": [
    "W przypadku drugiego miejsca sytuacja wygląda bardziej interesująco, niekwestionowanym liderem jest Grudinin Paweł Nikołajewicz."
   ]
  },
  {
   "cell_type": "markdown",
   "metadata": {},
   "source": [
    "## Analiza lokali wyborczych, w których Władimir Putin wygrał i przegrał"
   ]
  },
  {
   "cell_type": "markdown",
   "metadata": {},
   "source": [
    "Podział oryginalnego datasetu na dwa:\n",
    "- Dataset, w którym podane są wszystkie lokale wyborcze, w których Władimir Putin wygrał\n",
    "- Dataset, w którym podane są wszystkie lokale wyborcze, w których Władimir Putin nie zajął pierwsze miejsce"
   ]
  },
  {
   "cell_type": "code",
   "execution_count": 5,
   "metadata": {},
   "outputs": [],
   "source": [
    "data_win = data.copy()\n",
    "data_lose = data.copy()\n",
    "for index in data.index:\n",
    "    max_index = data[col_with_cand].iloc[index].idxmax()\n",
    "    if max_index == 'putin':\n",
    "        data_lose.drop(index, inplace = True)\n",
    "    else:\n",
    "        data_win.drop(index, inplace = True)\n",
    "        "
   ]
  },
  {
   "cell_type": "markdown",
   "metadata": {},
   "source": [
    "Sprawdzenie ile procent osób postanowiło głosować przed datą główną:"
   ]
  },
  {
   "cell_type": "code",
   "execution_count": 26,
   "metadata": {},
   "outputs": [
    {
     "name": "stdout",
     "output_type": "stream",
     "text": [
      "W wygranych lokalach wyborczych: 0.30%.\n"
     ]
    }
   ],
   "source": [
    "print(\"W wygranych lokalach wyborczych: {r:.2f}%.\".format(r = 100*data_win['early_voting_ballots'].sum() / (data_win['found_onsite_ballots'].sum() + data_win['found_offsite_ballots'].sum())))"
   ]
  },
  {
   "cell_type": "code",
   "execution_count": 27,
   "metadata": {},
   "outputs": [
    {
     "name": "stdout",
     "output_type": "stream",
     "text": [
      "W przegranych lokalach wyborczych: 0.22%.\n"
     ]
    }
   ],
   "source": [
    "print(\"W przegranych lokalach wyborczych: {r:.2f}%.\".format(r = 100*data_lose['early_voting_ballots'].sum() / (data_lose['found_onsite_ballots'].sum() + data_lose['found_offsite_ballots'].sum())))"
   ]
  },
  {
   "cell_type": "markdown",
   "metadata": {},
   "source": [
    "Różnica jest niewielka."
   ]
  },
  {
   "cell_type": "markdown",
   "metadata": {},
   "source": [
    "Sprawdzenie ile procent wszystkich kart wyborczych zgubiono:"
   ]
  },
  {
   "cell_type": "code",
   "execution_count": 28,
   "metadata": {},
   "outputs": [
    {
     "name": "stdout",
     "output_type": "stream",
     "text": [
      "W wygranych lokalach wyborczych: 0.64%.\n"
     ]
    }
   ],
   "source": [
    "print(\"W wygranych lokalach wyborczych: {r:.2f}%.\".format(r = 100*data_win['early_voting_ballots'].sum() / (data_win['lost_ballots'].sum() + data_win['offsite_ballots'].sum() + data_win['unused_ballots'].sum())))"
   ]
  },
  {
   "cell_type": "code",
   "execution_count": 29,
   "metadata": {},
   "outputs": [
    {
     "name": "stdout",
     "output_type": "stream",
     "text": [
      "W przegranych lokalach wyborczych: 0.19%.\n"
     ]
    }
   ],
   "source": [
    "print(\"W przegranych lokalach wyborczych: {r:.2f}%.\".format(r = 100*data_lose['lost_ballots'].sum() / (data_lose['onsite_ballots'].sum() + data_lose['offsite_ballots'].sum() + data_lose['unused_ballots'].sum())))"
   ]
  },
  {
   "cell_type": "markdown",
   "metadata": {},
   "source": [
    "W przypadku wygranych lokalach wyborczych jest prawie trzykrotnie większa ilość zgubionych kart wyborczych."
   ]
  },
  {
   "cell_type": "markdown",
   "metadata": {},
   "source": [
    "Sprawdzenie ile procent od wszystkich wyborców postanowiło głosować w lokalach wyborczy i ile z nich postanowiło głosować w lokalu, a ile poza lokalem:"
   ]
  },
  {
   "cell_type": "code",
   "execution_count": 30,
   "metadata": {},
   "outputs": [
    {
     "name": "stdout",
     "output_type": "stream",
     "text": [
      "W wygranych lokalach wyborczych przegłosowało: 67.49% od całej ilości wyborców.\n",
      "W wygranych lokalach wyborczych: 93.15% głosowało w siedzibie.\n",
      "W wygranych lokalach wyborczych: 6.85% głosowało poza siedzibą.\n"
     ]
    }
   ],
   "source": [
    "print(\"W wygranych lokalach wyborczych przegłosowało: {r:.2f}% od całej ilości wyborców.\".format(r = 100 * (data_win['found_onsite_ballots'].sum() + data_win['found_offsite_ballots'].sum())/data_win['registered_voters'].sum()))\n",
    "print(\"W wygranych lokalach wyborczych: {r:.2f}% głosowało w siedzibie.\".format(r = 100*data_win['found_onsite_ballots'].sum() / (data_win['found_onsite_ballots'].sum() + data_win['found_offsite_ballots'].sum())))\n",
    "print(\"W wygranych lokalach wyborczych: {r:.2f}% głosowało poza siedzibą.\".format(r = 100*data_win['found_offsite_ballots'].sum() / (data_win['found_onsite_ballots'].sum() + data_win['found_offsite_ballots'].sum())))"
   ]
  },
  {
   "cell_type": "code",
   "execution_count": 31,
   "metadata": {},
   "outputs": [
    {
     "name": "stdout",
     "output_type": "stream",
     "text": [
      "W przegranych lokalach wyborczych przegłosowało: 81.24% od całej ilości wyborców\n",
      "W przegranych lokalach wyborczych: 93.99% głosowało w siedzibie.\n",
      "W przegranych lokalach wyborczych: 6.01% głosowało poza siedzibą.\n"
     ]
    }
   ],
   "source": [
    "print(\"W przegranych lokalach wyborczych przegłosowało: {r:.2f}% od całej ilości wyborców\".format(r = 100 * (data_lose['found_onsite_ballots'].sum() + data_lose['found_offsite_ballots'].sum())/data_lose['registered_voters'].sum()))\n",
    "print(\"W przegranych lokalach wyborczych: {r:.2f}% głosowało w siedzibie.\".format(r = 100*data_lose['found_onsite_ballots'].sum() / (data_lose['found_onsite_ballots'].sum() + data_lose['found_offsite_ballots'].sum())))\n",
    "print(\"W przegranych lokalach wyborczych: {r:.2f}% głosowało poza siedzibą.\".format(r = 100*data_lose['found_offsite_ballots'].sum() / (data_lose['found_onsite_ballots'].sum() + data_lose['found_offsite_ballots'].sum())))"
   ]
  },
  {
   "cell_type": "markdown",
   "metadata": {},
   "source": [
    "Czyli w lokalach wyborczych, w których Putin nie zajął pierwsze miejsce, głosowało na około 14% więcej od całej ilości wyborców zarejestrowanych w tych lokalach wyborczych."
   ]
  },
  {
   "cell_type": "markdown",
   "metadata": {},
   "source": [
    "Sprawdzenie, czy są takie lokale wyborcze, w których głosowali tylko na Władimira Putina."
   ]
  },
  {
   "cell_type": "code",
   "execution_count": 6,
   "metadata": {},
   "outputs": [
    {
     "data": {
      "text/plain": [
       "(238, 23)"
      ]
     },
     "execution_count": 6,
     "metadata": {},
     "output_type": "execute_result"
    }
   ],
   "source": [
    "data_win[data_win['putin'] == data_win['valid_ballots']].shape"
   ]
  },
  {
   "cell_type": "markdown",
   "metadata": {},
   "source": [
    "Czyli są 238 takich lokali wyborczych."
   ]
  },
  {
   "cell_type": "code",
   "execution_count": 33,
   "metadata": {},
   "outputs": [
    {
     "name": "stdout",
     "output_type": "stream",
     "text": [
      "W 238 lokalach wyborczych glosowali tylko na Władimira Putina, co daje 24593 głosów, albo 0.04% od całej ilości głosów oddanych na Władimira Putina.\n"
     ]
    }
   ],
   "source": [
    "votes_only_for_putin = data_win[data_win['putin'] == data_win['valid_ballots']]['putin'].sum()\n",
    "print(\"W 238 lokalach wyborczych glosowali tylko na Władimira Putina, co daje {} głosów, albo {r:.2f}% od całej ilości głosów oddanych na Władimira Putina.\".format(votes_only_for_putin, r =100*votes_only_for_putin/results_votes.loc[3]['number_of_votes']))"
   ]
  },
  {
   "cell_type": "markdown",
   "metadata": {},
   "source": [
    "Sprawdzenie, czy istnieją podobne lokale wyborcze dla innych kandydatów."
   ]
  },
  {
   "cell_type": "code",
   "execution_count": 34,
   "metadata": {},
   "outputs": [],
   "source": [
    "for cand in col_with_cand:\n",
    "    if cand!='putin':\n",
    "        data_lose[data_lose[cand] == data_lose['valid_ballots']].shape"
   ]
  },
  {
   "cell_type": "markdown",
   "metadata": {},
   "source": [
    "Czyli nie ma takich lokali wyborczych dla innych kandydatów."
   ]
  },
  {
   "cell_type": "markdown",
   "metadata": {},
   "source": [
    "# Część Machine Learning"
   ]
  },
  {
   "cell_type": "markdown",
   "metadata": {},
   "source": [
    "W niniejszej części spróbowano użycie metody Superviced Learning dla przepowiadania wyników wyborów. W tym celu będą używane następne kolumny z oryginalnego datasetu:\n",
    "- registered_voters\n",
    "- received_ballots\n",
    "- early_voting_ballots\n",
    "- onsite_ballots\n",
    "- offsite_ballots\n",
    "- unused_ballots\n",
    "- found_offsite_ballots\n",
    "- found_onsite_ballots\n",
    "- invalid_ballots\n",
    "- valid_ballots\n",
    "- lost_ballots\n",
    "    "
   ]
  },
  {
   "cell_type": "markdown",
   "metadata": {},
   "source": [
    "Dla użycia niektórych cech należy przeprowadzić zmianę kolumn tekstowych na liczby.\n",
    "W celu uproszczenia danych wejściowych tylko nazwa regionu będzie uwzględniona. Dla użycia tych danych należy zamienić tekst na liczby."
   ]
  },
  {
   "cell_type": "code",
   "execution_count": 35,
   "metadata": {},
   "outputs": [
    {
     "data": {
      "text/plain": [
       "87"
      ]
     },
     "execution_count": 35,
     "metadata": {},
     "output_type": "execute_result"
    }
   ],
   "source": [
    "data['region_name'].nunique()"
   ]
  },
  {
   "cell_type": "markdown",
   "metadata": {},
   "source": [
    "Skoro jest 87 unikalnych wartości, to każda unikalna wartość zostanie zmieniona na liczbę od 1 do 87. \n",
    "Jako wartości, które niniejsze algorytmy będą starały się prewidzieć, to jaki kandydat w konkretnym lokalu wyborczym będzie zajmował odpowiednio pierwsze, drugie i trzecie miejsce. Dlatego zamiast kolumn z ilością głosów na konkretnego kandydata będą stworzone kolumny First_Place, Second_Place, Third_Place, których wartościami będą odpowiednio nazwa kandydata, który to miejsce zajmuje, reprezentowany jako liczba:\n",
    "- baburin: 1\n",
    "- grudinin: 2\n",
    "- zhirinovsky: 3\n",
    "- putin: 4\n",
    "- sobchak: 5\n",
    "- suraykin: 6\n",
    "- titov: 7\n",
    "- yavlinsky: 8"
   ]
  },
  {
   "cell_type": "markdown",
   "metadata": {},
   "source": [
    "## Kopiowanie oryginalnego datasetu i usunięcie niepotrzebnych kolumn"
   ]
  },
  {
   "cell_type": "code",
   "execution_count": 7,
   "metadata": {},
   "outputs": [
    {
     "data": {
      "text/plain": [
       "Index(['region_name', 'tik_name', 'uik_name', 'registered_voters',\n",
       "       'received_ballots', 'early_voting_ballots', 'onsite_ballots',\n",
       "       'offsite_ballots', 'unused_ballots', 'found_offsite_ballots',\n",
       "       'found_onsite_ballots', 'invalid_ballots', 'valid_ballots',\n",
       "       'lost_ballots', 'unaccounted_ballots', 'baburin', 'grudinin',\n",
       "       'zhirinovsky', 'putin', 'sobchak', 'suraykin', 'titov', 'yavlinsky'],\n",
       "      dtype='object')"
      ]
     },
     "execution_count": 7,
     "metadata": {},
     "output_type": "execute_result"
    }
   ],
   "source": [
    "data_ml = data.copy()\n",
    "data.columns"
   ]
  },
  {
   "cell_type": "code",
   "execution_count": 8,
   "metadata": {},
   "outputs": [],
   "source": [
    "data_ml.drop(['tik_name', 'uik_name', 'unaccounted_ballots' ], axis = 1, inplace = True)"
   ]
  },
  {
   "cell_type": "markdown",
   "metadata": {},
   "source": [
    "## Przekształcenie danych"
   ]
  },
  {
   "cell_type": "code",
   "execution_count": 38,
   "metadata": {},
   "outputs": [
    {
     "name": "stderr",
     "output_type": "stream",
     "text": [
      "/home/vazh/anaconda3/lib/python3.7/site-packages/pandas/core/indexing.py:190: SettingWithCopyWarning: \n",
      "A value is trying to be set on a copy of a slice from a DataFrame\n",
      "\n",
      "See the caveats in the documentation: http://pandas.pydata.org/pandas-docs/stable/indexing.html#indexing-view-versus-copy\n",
      "  self._setitem_with_indexer(indexer, value)\n"
     ]
    },
    {
     "data": {
      "text/html": [
       "<div>\n",
       "<style scoped>\n",
       "    .dataframe tbody tr th:only-of-type {\n",
       "        vertical-align: middle;\n",
       "    }\n",
       "\n",
       "    .dataframe tbody tr th {\n",
       "        vertical-align: top;\n",
       "    }\n",
       "\n",
       "    .dataframe thead th {\n",
       "        text-align: right;\n",
       "    }\n",
       "</style>\n",
       "<table border=\"1\" class=\"dataframe\">\n",
       "  <thead>\n",
       "    <tr style=\"text-align: right;\">\n",
       "      <th></th>\n",
       "      <th>region_name</th>\n",
       "      <th>registered_voters</th>\n",
       "      <th>received_ballots</th>\n",
       "      <th>early_voting_ballots</th>\n",
       "      <th>onsite_ballots</th>\n",
       "      <th>offsite_ballots</th>\n",
       "      <th>unused_ballots</th>\n",
       "      <th>found_offsite_ballots</th>\n",
       "      <th>found_onsite_ballots</th>\n",
       "      <th>invalid_ballots</th>\n",
       "      <th>...</th>\n",
       "      <th>grudinin</th>\n",
       "      <th>zhirinovsky</th>\n",
       "      <th>putin</th>\n",
       "      <th>sobchak</th>\n",
       "      <th>suraykin</th>\n",
       "      <th>titov</th>\n",
       "      <th>yavlinsky</th>\n",
       "      <th>First_Place</th>\n",
       "      <th>Second_Place</th>\n",
       "      <th>Third_Place</th>\n",
       "    </tr>\n",
       "  </thead>\n",
       "  <tbody>\n",
       "    <tr>\n",
       "      <th>0</th>\n",
       "      <td>0</td>\n",
       "      <td>2132</td>\n",
       "      <td>2000</td>\n",
       "      <td>0</td>\n",
       "      <td>1447</td>\n",
       "      <td>11</td>\n",
       "      <td>542</td>\n",
       "      <td>11</td>\n",
       "      <td>1447</td>\n",
       "      <td>9</td>\n",
       "      <td>...</td>\n",
       "      <td>176</td>\n",
       "      <td>79</td>\n",
       "      <td>1136</td>\n",
       "      <td>30</td>\n",
       "      <td>9</td>\n",
       "      <td>5</td>\n",
       "      <td>10</td>\n",
       "      <td>4</td>\n",
       "      <td>2</td>\n",
       "      <td>3</td>\n",
       "    </tr>\n",
       "    <tr>\n",
       "      <th>1</th>\n",
       "      <td>0</td>\n",
       "      <td>2207</td>\n",
       "      <td>2000</td>\n",
       "      <td>0</td>\n",
       "      <td>1470</td>\n",
       "      <td>14</td>\n",
       "      <td>516</td>\n",
       "      <td>14</td>\n",
       "      <td>1470</td>\n",
       "      <td>14</td>\n",
       "      <td>...</td>\n",
       "      <td>128</td>\n",
       "      <td>87</td>\n",
       "      <td>1214</td>\n",
       "      <td>19</td>\n",
       "      <td>4</td>\n",
       "      <td>7</td>\n",
       "      <td>9</td>\n",
       "      <td>4</td>\n",
       "      <td>2</td>\n",
       "      <td>3</td>\n",
       "    </tr>\n",
       "    <tr>\n",
       "      <th>2</th>\n",
       "      <td>0</td>\n",
       "      <td>2249</td>\n",
       "      <td>2000</td>\n",
       "      <td>0</td>\n",
       "      <td>1490</td>\n",
       "      <td>7</td>\n",
       "      <td>503</td>\n",
       "      <td>7</td>\n",
       "      <td>1490</td>\n",
       "      <td>27</td>\n",
       "      <td>...</td>\n",
       "      <td>171</td>\n",
       "      <td>94</td>\n",
       "      <td>1162</td>\n",
       "      <td>17</td>\n",
       "      <td>3</td>\n",
       "      <td>12</td>\n",
       "      <td>6</td>\n",
       "      <td>4</td>\n",
       "      <td>2</td>\n",
       "      <td>3</td>\n",
       "    </tr>\n",
       "    <tr>\n",
       "      <th>3</th>\n",
       "      <td>0</td>\n",
       "      <td>1769</td>\n",
       "      <td>1500</td>\n",
       "      <td>0</td>\n",
       "      <td>1065</td>\n",
       "      <td>48</td>\n",
       "      <td>387</td>\n",
       "      <td>48</td>\n",
       "      <td>1065</td>\n",
       "      <td>20</td>\n",
       "      <td>...</td>\n",
       "      <td>98</td>\n",
       "      <td>72</td>\n",
       "      <td>882</td>\n",
       "      <td>17</td>\n",
       "      <td>8</td>\n",
       "      <td>5</td>\n",
       "      <td>6</td>\n",
       "      <td>4</td>\n",
       "      <td>2</td>\n",
       "      <td>3</td>\n",
       "    </tr>\n",
       "    <tr>\n",
       "      <th>4</th>\n",
       "      <td>0</td>\n",
       "      <td>1880</td>\n",
       "      <td>1500</td>\n",
       "      <td>0</td>\n",
       "      <td>1171</td>\n",
       "      <td>13</td>\n",
       "      <td>316</td>\n",
       "      <td>13</td>\n",
       "      <td>1171</td>\n",
       "      <td>10</td>\n",
       "      <td>...</td>\n",
       "      <td>124</td>\n",
       "      <td>105</td>\n",
       "      <td>902</td>\n",
       "      <td>7</td>\n",
       "      <td>9</td>\n",
       "      <td>10</td>\n",
       "      <td>10</td>\n",
       "      <td>4</td>\n",
       "      <td>2</td>\n",
       "      <td>3</td>\n",
       "    </tr>\n",
       "  </tbody>\n",
       "</table>\n",
       "<p>5 rows × 23 columns</p>\n",
       "</div>"
      ],
      "text/plain": [
       "   region_name  registered_voters  received_ballots  early_voting_ballots  \\\n",
       "0            0               2132              2000                     0   \n",
       "1            0               2207              2000                     0   \n",
       "2            0               2249              2000                     0   \n",
       "3            0               1769              1500                     0   \n",
       "4            0               1880              1500                     0   \n",
       "\n",
       "   onsite_ballots  offsite_ballots  unused_ballots  found_offsite_ballots  \\\n",
       "0            1447               11             542                     11   \n",
       "1            1470               14             516                     14   \n",
       "2            1490                7             503                      7   \n",
       "3            1065               48             387                     48   \n",
       "4            1171               13             316                     13   \n",
       "\n",
       "   found_onsite_ballots  invalid_ballots  ...  grudinin  zhirinovsky  putin  \\\n",
       "0                  1447                9  ...       176           79   1136   \n",
       "1                  1470               14  ...       128           87   1214   \n",
       "2                  1490               27  ...       171           94   1162   \n",
       "3                  1065               20  ...        98           72    882   \n",
       "4                  1171               10  ...       124          105    902   \n",
       "\n",
       "   sobchak  suraykin  titov  yavlinsky  First_Place  Second_Place  Third_Place  \n",
       "0       30         9      5         10            4             2            3  \n",
       "1       19         4      7          9            4             2            3  \n",
       "2       17         3     12          6            4             2            3  \n",
       "3       17         8      5          6            4             2            3  \n",
       "4        7         9     10         10            4             2            3  \n",
       "\n",
       "[5 rows x 23 columns]"
      ]
     },
     "execution_count": 38,
     "metadata": {},
     "output_type": "execute_result"
    }
   ],
   "source": [
    "uniq = {}\n",
    "candydate = {\n",
    "    'baburin': 1, 'grudinin': 2, 'zhirinovsky': 3, 'putin': 4, 'sobchak': 5, 'suraykin': 6, 'titov': 7, \n",
    "    'yavlinsky': 8}\n",
    "data_ml['First_Place'] = \"\"\n",
    "data_ml['Second_Place'] = \"\"\n",
    "data_ml['Third_Place'] = \"\"    \n",
    "i = 0\n",
    "\n",
    "for region in data_ml['region_name'].unique():\n",
    "    uniq[region] = i\n",
    "    i+=1\n",
    "\n",
    "for index in data_ml.index:\n",
    "    data_ml['region_name'].iloc[index] = uniq[data_ml['region_name'].iloc[index]]\n",
    "    temp = data_ml[col_with_cand].iloc[index].sort_values(ascending = False)\n",
    "    first = temp.index[0]\n",
    "    second = temp.index[1]\n",
    "    third = temp.index[2]\n",
    "    data_ml['First_Place'].iloc[index] = candydate[first]\n",
    "    data_ml['Second_Place'].iloc[index] = candydate[second]\n",
    "    data_ml['Third_Place'].iloc[index] = candydate[third]\n",
    "\n",
    "data_ml.head()    "
   ]
  },
  {
   "cell_type": "markdown",
   "metadata": {},
   "source": [
    "\n",
    "## Usunięcie niepotrzebnych kolumn i podział danych na train i test sety"
   ]
  },
  {
   "cell_type": "code",
   "execution_count": 39,
   "metadata": {},
   "outputs": [],
   "source": [
    "from sklearn.model_selection import train_test_split\n",
    "\n",
    "data_ml.drop(col_with_cand, axis = 1, inplace = True)\n",
    "X_train, X_test, Y_train, Y_test = train_test_split(data_ml.drop(['First_Place', 'Second_Place', 'Third_Place'], axis = 1), data_ml[['First_Place', 'Second_Place', 'Third_Place']], test_size = 0.3)"
   ]
  },
  {
   "cell_type": "markdown",
   "metadata": {},
   "source": [
    "## Nauczenie algorytmów dla przepowiadania kto zajmie pierwsze miejsce w konkretnym lokalu wyborczym"
   ]
  },
  {
   "cell_type": "markdown",
   "metadata": {},
   "source": [
    "Ze względu na to, że w 99.86% od ilości wszystkich lokali wyborczych pierwsze miejsce zajmuje Władimir Putin, nauczenie algorytmu staje się zadaniem dość trywialnym. Jednak pojawia się pytanie, czy nauczone algorytmy będą w stanie przypisać jakichkolwiek innych kandydatów jako wygranych, czy wszędzie będzie Władimir Putin?\n",
    "\n",
    "We wszystkich poniżej przeprowadzonych analizach postanowiono użyć 4 różne metody Superviced Learning: Logistic Regression, K Nearest Neighbots, Random Forest i Support Vector Clusters."
   ]
  },
  {
   "cell_type": "markdown",
   "metadata": {},
   "source": [
    "** Nauczenie algorytmów"
   ]
  },
  {
   "cell_type": "code",
   "execution_count": 40,
   "metadata": {},
   "outputs": [
    {
     "name": "stderr",
     "output_type": "stream",
     "text": [
      "/home/vazh/anaconda3/lib/python3.7/site-packages/sklearn/linear_model/logistic.py:432: FutureWarning: Default solver will be changed to 'lbfgs' in 0.22. Specify a solver to silence this warning.\n",
      "  FutureWarning)\n",
      "/home/vazh/anaconda3/lib/python3.7/site-packages/sklearn/linear_model/logistic.py:469: FutureWarning: Default multi_class will be changed to 'auto' in 0.22. Specify the multi_class option to silence this warning.\n",
      "  \"this warning.\", FutureWarning)\n",
      "/home/vazh/anaconda3/lib/python3.7/site-packages/sklearn/svm/base.py:193: FutureWarning: The default value of gamma will change from 'auto' to 'scale' in version 0.22 to account better for unscaled features. Set gamma explicitly to 'auto' or 'scale' to avoid this warning.\n",
      "  \"avoid this warning.\", FutureWarning)\n"
     ]
    },
    {
     "data": {
      "text/plain": [
       "SVC(C=1.0, cache_size=200, class_weight=None, coef0=0.0,\n",
       "    decision_function_shape='ovr', degree=3, gamma='auto_deprecated',\n",
       "    kernel='rbf', max_iter=-1, probability=False, random_state=None,\n",
       "    shrinking=True, tol=0.001, verbose=False)"
      ]
     },
     "execution_count": 40,
     "metadata": {},
     "output_type": "execute_result"
    }
   ],
   "source": [
    "from sklearn.linear_model import LogisticRegression\n",
    "from sklearn.neighbors import KNeighborsClassifier\n",
    "from sklearn.ensemble import RandomForestClassifier\n",
    "from sklearn.svm import SVC\n",
    "\n",
    "model_LR = LogisticRegression()\n",
    "model_KN = KNeighborsClassifier(n_neighbors = 5)\n",
    "model_RF = RandomForestClassifier(n_estimators=100)\n",
    "model_SVC= SVC()\n",
    "\n",
    "model_LR.fit(X_train, Y_train['First_Place'])\n",
    "model_KN.fit(X_train, Y_train['First_Place'])\n",
    "model_RF.fit(X_train, Y_train['First_Place'])\n",
    "model_SVC.fit(X_train, Y_train['First_Place'])"
   ]
  },
  {
   "cell_type": "markdown",
   "metadata": {},
   "source": [
    "** Sprawdzenie działania algorytmów na danych testowych"
   ]
  },
  {
   "cell_type": "code",
   "execution_count": 41,
   "metadata": {},
   "outputs": [],
   "source": [
    "predict_LR = model_LR.predict(X_test)\n",
    "predict_KN = model_KN.predict(X_test)\n",
    "predict_RF = model_RF.predict(X_test)\n",
    "predict_SVC = model_SVC.predict(X_test)"
   ]
  },
  {
   "cell_type": "markdown",
   "metadata": {},
   "source": [
    "** Analiza wyników"
   ]
  },
  {
   "cell_type": "code",
   "execution_count": 42,
   "metadata": {},
   "outputs": [
    {
     "name": "stdout",
     "output_type": "stream",
     "text": [
      "              precision    recall  f1-score   support\n",
      "\n",
      "           2     0.0000    0.0000    0.0000        31\n",
      "           3     0.0000    0.0000    0.0000         7\n",
      "           4     0.9987    0.9999    0.9993     29273\n",
      "           5     0.0000    0.0000    0.0000         0\n",
      "           8     0.0000    0.0000    0.0000         1\n",
      "\n",
      "    accuracy                         0.9986     29312\n",
      "   macro avg     0.1997    0.2000    0.1999     29312\n",
      "weighted avg     0.9973    0.9986    0.9980     29312\n",
      "\n"
     ]
    },
    {
     "name": "stderr",
     "output_type": "stream",
     "text": [
      "/home/vazh/anaconda3/lib/python3.7/site-packages/sklearn/metrics/classification.py:1437: UndefinedMetricWarning: Precision and F-score are ill-defined and being set to 0.0 in labels with no predicted samples.\n",
      "  'precision', 'predicted', average, warn_for)\n",
      "/home/vazh/anaconda3/lib/python3.7/site-packages/sklearn/metrics/classification.py:1439: UndefinedMetricWarning: Recall and F-score are ill-defined and being set to 0.0 in labels with no true samples.\n",
      "  'recall', 'true', average, warn_for)\n"
     ]
    }
   ],
   "source": [
    "from sklearn.metrics import classification_report, confusion_matrix\n",
    "\n",
    "print(classification_report(Y_test['First_Place'], predict_LR, digits = 4))"
   ]
  },
  {
   "cell_type": "code",
   "execution_count": 43,
   "metadata": {},
   "outputs": [
    {
     "name": "stdout",
     "output_type": "stream",
     "text": [
      "              precision    recall  f1-score   support\n",
      "\n",
      "           2     0.0000    0.0000    0.0000        31\n",
      "           3     0.0000    0.0000    0.0000         7\n",
      "           4     0.9987    1.0000    0.9993     29273\n",
      "           8     0.0000    0.0000    0.0000         1\n",
      "\n",
      "    accuracy                         0.9987     29312\n",
      "   macro avg     0.2497    0.2500    0.2498     29312\n",
      "weighted avg     0.9973    0.9987    0.9980     29312\n",
      "\n"
     ]
    }
   ],
   "source": [
    "print(classification_report(Y_test['First_Place'], predict_KN, digits = 4))"
   ]
  },
  {
   "cell_type": "code",
   "execution_count": 44,
   "metadata": {},
   "outputs": [
    {
     "name": "stdout",
     "output_type": "stream",
     "text": [
      "              precision    recall  f1-score   support\n",
      "\n",
      "           2     0.0000    0.0000    0.0000        31\n",
      "           3     0.0000    0.0000    0.0000         7\n",
      "           4     0.9987    0.9999    0.9993     29273\n",
      "           7     0.0000    0.0000    0.0000         0\n",
      "           8     0.0000    0.0000    0.0000         1\n",
      "\n",
      "    accuracy                         0.9985     29312\n",
      "   macro avg     0.1997    0.2000    0.1999     29312\n",
      "weighted avg     0.9974    0.9985    0.9980     29312\n",
      "\n"
     ]
    }
   ],
   "source": [
    "print(classification_report(Y_test['First_Place'], predict_RF, digits = 4))"
   ]
  },
  {
   "cell_type": "code",
   "execution_count": 45,
   "metadata": {},
   "outputs": [
    {
     "name": "stdout",
     "output_type": "stream",
     "text": [
      "              precision    recall  f1-score   support\n",
      "\n",
      "           2     0.0000    0.0000    0.0000        31\n",
      "           3     0.0000    0.0000    0.0000         7\n",
      "           4     0.9987    1.0000    0.9993     29273\n",
      "           8     0.0000    0.0000    0.0000         1\n",
      "\n",
      "    accuracy                         0.9987     29312\n",
      "   macro avg     0.2497    0.2500    0.2498     29312\n",
      "weighted avg     0.9973    0.9987    0.9980     29312\n",
      "\n"
     ]
    }
   ],
   "source": [
    "print(classification_report(Y_test['First_Place'], predict_SVC, digits = 4))"
   ]
  },
  {
   "cell_type": "markdown",
   "metadata": {},
   "source": [
    "We wszystkich użytych algorytmach dokładność 99.87% jest dla wartości 4, co odpowiada Władimirowi Putinowi. Jednak dla wszystkich innych kandydatów dokładność wynosi 00.00%, co oznacza, że użyte algorytmy nie są w stanie przewidzieć żaden inny wynik dla lokali wyborczych."
   ]
  },
  {
   "cell_type": "markdown",
   "metadata": {},
   "source": [
    "## Nauczenie algorytmów dla przepowiadania kto zajmie drugie miejsce w konkretnym lokalu wyborczym"
   ]
  },
  {
   "cell_type": "markdown",
   "metadata": {},
   "source": [
    "W przypadku drugiego miejsca pojawia się już konkurencja. Na tle innych kandydatów wyróżniają się: Grudinin Paweł Nikołajewicz i Żyrinowski Władimir Wolfowicz."
   ]
  },
  {
   "cell_type": "markdown",
   "metadata": {},
   "source": [
    "** Nauczenie algorytmów"
   ]
  },
  {
   "cell_type": "code",
   "execution_count": 46,
   "metadata": {},
   "outputs": [
    {
     "name": "stderr",
     "output_type": "stream",
     "text": [
      "/home/vazh/anaconda3/lib/python3.7/site-packages/sklearn/linear_model/logistic.py:432: FutureWarning: Default solver will be changed to 'lbfgs' in 0.22. Specify a solver to silence this warning.\n",
      "  FutureWarning)\n",
      "/home/vazh/anaconda3/lib/python3.7/site-packages/sklearn/linear_model/logistic.py:469: FutureWarning: Default multi_class will be changed to 'auto' in 0.22. Specify the multi_class option to silence this warning.\n",
      "  \"this warning.\", FutureWarning)\n",
      "/home/vazh/anaconda3/lib/python3.7/site-packages/sklearn/svm/base.py:929: ConvergenceWarning: Liblinear failed to converge, increase the number of iterations.\n",
      "  \"the number of iterations.\", ConvergenceWarning)\n",
      "/home/vazh/anaconda3/lib/python3.7/site-packages/sklearn/svm/base.py:193: FutureWarning: The default value of gamma will change from 'auto' to 'scale' in version 0.22 to account better for unscaled features. Set gamma explicitly to 'auto' or 'scale' to avoid this warning.\n",
      "  \"avoid this warning.\", FutureWarning)\n"
     ]
    },
    {
     "data": {
      "text/plain": [
       "SVC(C=1.0, cache_size=200, class_weight=None, coef0=0.0,\n",
       "    decision_function_shape='ovr', degree=3, gamma='auto_deprecated',\n",
       "    kernel='rbf', max_iter=-1, probability=False, random_state=None,\n",
       "    shrinking=True, tol=0.001, verbose=False)"
      ]
     },
     "execution_count": 46,
     "metadata": {},
     "output_type": "execute_result"
    }
   ],
   "source": [
    "model_LR_sec = LogisticRegression()\n",
    "model_KN_sec = KNeighborsClassifier(n_neighbors = 5)\n",
    "model_RF_sec = RandomForestClassifier(n_estimators=100)\n",
    "model_SVC_sec= SVC()\n",
    "\n",
    "model_LR_sec.fit(X_train, Y_train['Second_Place'])\n",
    "model_KN_sec.fit(X_train, Y_train['Second_Place'])\n",
    "model_RF_sec.fit(X_train, Y_train['Second_Place'])\n",
    "model_SVC_sec.fit(X_train, Y_train['Second_Place'])"
   ]
  },
  {
   "cell_type": "markdown",
   "metadata": {},
   "source": [
    "** Sprawdzenie działania algorytmów na danych testowych"
   ]
  },
  {
   "cell_type": "code",
   "execution_count": 47,
   "metadata": {},
   "outputs": [],
   "source": [
    "predict_LR_sec = model_LR_sec.predict(X_test)\n",
    "predict_KN_sec = model_KN_sec.predict(X_test)\n",
    "predict_RF_sec = model_RF_sec.predict(X_test)\n",
    "predict_SVC_sec = model_SVC_sec.predict(X_test)"
   ]
  },
  {
   "cell_type": "markdown",
   "metadata": {},
   "source": [
    "** Analiza wyników"
   ]
  },
  {
   "cell_type": "code",
   "execution_count": 48,
   "metadata": {},
   "outputs": [
    {
     "name": "stdout",
     "output_type": "stream",
     "text": [
      "              precision    recall  f1-score   support\n",
      "\n",
      "           1       0.00      0.00      0.00        23\n",
      "           2       0.81      1.00      0.90     23772\n",
      "           3       0.53      0.00      0.00      5018\n",
      "           4       0.00      0.00      0.00        32\n",
      "           5       0.57      0.02      0.03       239\n",
      "           6       0.00      0.00      0.00        93\n",
      "           7       0.00      0.00      0.00        31\n",
      "           8       0.00      0.00      0.00       104\n",
      "\n",
      "    accuracy                           0.81     29312\n",
      "   macro avg       0.24      0.13      0.12     29312\n",
      "weighted avg       0.75      0.81      0.73     29312\n",
      "\n"
     ]
    },
    {
     "name": "stderr",
     "output_type": "stream",
     "text": [
      "/home/vazh/anaconda3/lib/python3.7/site-packages/sklearn/metrics/classification.py:1437: UndefinedMetricWarning: Precision and F-score are ill-defined and being set to 0.0 in labels with no predicted samples.\n",
      "  'precision', 'predicted', average, warn_for)\n"
     ]
    }
   ],
   "source": [
    "print(classification_report(Y_test['Second_Place'], predict_LR_sec))"
   ]
  },
  {
   "cell_type": "code",
   "execution_count": 49,
   "metadata": {},
   "outputs": [
    {
     "name": "stdout",
     "output_type": "stream",
     "text": [
      "              precision    recall  f1-score   support\n",
      "\n",
      "           1       0.00      0.00      0.00        23\n",
      "           2       0.84      0.93      0.88     23772\n",
      "           3       0.42      0.26      0.32      5018\n",
      "           4       0.29      0.06      0.10        32\n",
      "           5       0.43      0.04      0.08       239\n",
      "           6       0.50      0.04      0.08        93\n",
      "           7       0.00      0.00      0.00        31\n",
      "           8       0.31      0.08      0.12       104\n",
      "\n",
      "    accuracy                           0.80     29312\n",
      "   macro avg       0.35      0.18      0.20     29312\n",
      "weighted avg       0.76      0.80      0.77     29312\n",
      "\n"
     ]
    }
   ],
   "source": [
    "print(classification_report(Y_test['Second_Place'], predict_KN_sec))"
   ]
  },
  {
   "cell_type": "code",
   "execution_count": 50,
   "metadata": {},
   "outputs": [
    {
     "name": "stdout",
     "output_type": "stream",
     "text": [
      "              precision    recall  f1-score   support\n",
      "\n",
      "           1       0.00      0.00      0.00        23\n",
      "           2       0.85      0.95      0.90     23772\n",
      "           3       0.51      0.27      0.35      5018\n",
      "           4       0.17      0.03      0.05        32\n",
      "           5       0.43      0.10      0.16       239\n",
      "           6       0.67      0.11      0.19        93\n",
      "           7       0.00      0.00      0.00        31\n",
      "           8       0.31      0.13      0.19       104\n",
      "\n",
      "    accuracy                           0.82     29312\n",
      "   macro avg       0.37      0.20      0.23     29312\n",
      "weighted avg       0.78      0.82      0.79     29312\n",
      "\n"
     ]
    }
   ],
   "source": [
    "print(classification_report(Y_test['Second_Place'], predict_RF_sec))"
   ]
  },
  {
   "cell_type": "code",
   "execution_count": 51,
   "metadata": {},
   "outputs": [
    {
     "name": "stdout",
     "output_type": "stream",
     "text": [
      "              precision    recall  f1-score   support\n",
      "\n",
      "           1       0.00      0.00      0.00        23\n",
      "           2       0.81      1.00      0.90     23772\n",
      "           3       0.55      0.02      0.03      5018\n",
      "           4       0.00      0.00      0.00        32\n",
      "           5       0.00      0.00      0.00       239\n",
      "           6       0.00      0.00      0.00        93\n",
      "           7       0.00      0.00      0.00        31\n",
      "           8       0.41      0.09      0.14       104\n",
      "\n",
      "    accuracy                           0.81     29312\n",
      "   macro avg       0.22      0.14      0.13     29312\n",
      "weighted avg       0.76      0.81      0.73     29312\n",
      "\n"
     ]
    }
   ],
   "source": [
    "print(classification_report(Y_test['Second_Place'], predict_SVC_sec))"
   ]
  },
  {
   "cell_type": "markdown",
   "metadata": {},
   "source": [
    "Dokładność wszystkich użytych algorytmów wynosi co najmniej 80%. Najsłabszymi algorytmami okazały się Logistic Regression oraz Support Vector Clusters: ma 0.00% dokładności dla 5 kandydatów. Najlepszym modelem jest Random Forest(ma 82% dokładności ogólnej oraz 0.00% dokładności dla 2 kandydatów). Trochę gorzej jest dla K Nearest Neighbors (ma 80% dokładności ogólnej, 0.00% dokładności dla 2 kandydatów i niektóre wartości gorsze niż w przypadku RF)."
   ]
  },
  {
   "cell_type": "markdown",
   "metadata": {},
   "source": [
    "## Nauczenie algorytmów dla przepowiadania kto zajmie trzecie miejsce w konkretnym lokalu wyborczym"
   ]
  },
  {
   "cell_type": "markdown",
   "metadata": {},
   "source": [
    "Również postanowiono przeprowadzić analogiczną analizę dla trzeciego miejsca.\n"
   ]
  },
  {
   "cell_type": "markdown",
   "metadata": {},
   "source": [
    "** Nauczenie algorytmów"
   ]
  },
  {
   "cell_type": "code",
   "execution_count": 52,
   "metadata": {},
   "outputs": [
    {
     "name": "stderr",
     "output_type": "stream",
     "text": [
      "/home/vazh/anaconda3/lib/python3.7/site-packages/sklearn/linear_model/logistic.py:432: FutureWarning: Default solver will be changed to 'lbfgs' in 0.22. Specify a solver to silence this warning.\n",
      "  FutureWarning)\n",
      "/home/vazh/anaconda3/lib/python3.7/site-packages/sklearn/linear_model/logistic.py:469: FutureWarning: Default multi_class will be changed to 'auto' in 0.22. Specify the multi_class option to silence this warning.\n",
      "  \"this warning.\", FutureWarning)\n",
      "/home/vazh/anaconda3/lib/python3.7/site-packages/sklearn/svm/base.py:193: FutureWarning: The default value of gamma will change from 'auto' to 'scale' in version 0.22 to account better for unscaled features. Set gamma explicitly to 'auto' or 'scale' to avoid this warning.\n",
      "  \"avoid this warning.\", FutureWarning)\n"
     ]
    },
    {
     "data": {
      "text/plain": [
       "SVC(C=1.0, cache_size=200, class_weight=None, coef0=0.0,\n",
       "    decision_function_shape='ovr', degree=3, gamma='auto_deprecated',\n",
       "    kernel='rbf', max_iter=-1, probability=False, random_state=None,\n",
       "    shrinking=True, tol=0.001, verbose=False)"
      ]
     },
     "execution_count": 52,
     "metadata": {},
     "output_type": "execute_result"
    }
   ],
   "source": [
    "model_LR_thr = LogisticRegression()\n",
    "model_KN_thr = KNeighborsClassifier(n_neighbors = 5)\n",
    "model_RF_thr = RandomForestClassifier(n_estimators=100)\n",
    "model_SVC_thr= SVC()\n",
    "\n",
    "model_LR_thr.fit(X_train, Y_train['Third_Place'])\n",
    "model_KN_thr.fit(X_train, Y_train['Third_Place'])\n",
    "model_RF_thr.fit(X_train, Y_train['Third_Place'])\n",
    "model_SVC_thr.fit(X_train, Y_train['Third_Place'])"
   ]
  },
  {
   "cell_type": "markdown",
   "metadata": {},
   "source": [
    "** Sprawdzenie działania algorytmów na danych testowych"
   ]
  },
  {
   "cell_type": "code",
   "execution_count": 53,
   "metadata": {},
   "outputs": [],
   "source": [
    "predict_LR_thr = model_LR_thr.predict(X_test)\n",
    "predict_KN_thr = model_KN_thr.predict(X_test)\n",
    "predict_RF_thr = model_RF_thr.predict(X_test)\n",
    "predict_SVC_thr = model_SVC_thr.predict(X_test)"
   ]
  },
  {
   "cell_type": "markdown",
   "metadata": {},
   "source": [
    "** Analiza wyników"
   ]
  },
  {
   "cell_type": "code",
   "execution_count": 54,
   "metadata": {},
   "outputs": [
    {
     "name": "stdout",
     "output_type": "stream",
     "text": [
      "              precision    recall  f1-score   support\n",
      "\n",
      "           1       0.20      0.01      0.01       163\n",
      "           2       0.56      0.00      0.01      4802\n",
      "           3       0.73      1.00      0.84     21288\n",
      "           4       0.00      0.00      0.00         5\n",
      "           5       0.08      0.00      0.00      1605\n",
      "           6       0.00      0.00      0.00       380\n",
      "           7       0.00      0.00      0.00       280\n",
      "           8       0.00      0.00      0.00       789\n",
      "\n",
      "    accuracy                           0.73     29312\n",
      "   macro avg       0.20      0.13      0.11     29312\n",
      "weighted avg       0.63      0.73      0.61     29312\n",
      "\n"
     ]
    },
    {
     "name": "stderr",
     "output_type": "stream",
     "text": [
      "/home/vazh/anaconda3/lib/python3.7/site-packages/sklearn/metrics/classification.py:1437: UndefinedMetricWarning: Precision and F-score are ill-defined and being set to 0.0 in labels with no predicted samples.\n",
      "  'precision', 'predicted', average, warn_for)\n"
     ]
    }
   ],
   "source": [
    "print(classification_report(Y_test['Third_Place'], predict_LR_thr))"
   ]
  },
  {
   "cell_type": "code",
   "execution_count": 55,
   "metadata": {},
   "outputs": [
    {
     "name": "stdout",
     "output_type": "stream",
     "text": [
      "              precision    recall  f1-score   support\n",
      "\n",
      "           1       0.15      0.17      0.16       163\n",
      "           2       0.34      0.28      0.31      4802\n",
      "           3       0.78      0.89      0.83     21288\n",
      "           4       0.00      0.00      0.00         5\n",
      "           5       0.24      0.05      0.09      1605\n",
      "           6       0.07      0.01      0.02       380\n",
      "           7       0.16      0.05      0.08       280\n",
      "           8       0.27      0.11      0.16       789\n",
      "\n",
      "    accuracy                           0.70     29312\n",
      "   macro avg       0.25      0.20      0.20     29312\n",
      "weighted avg       0.64      0.70      0.66     29312\n",
      "\n"
     ]
    }
   ],
   "source": [
    "print(classification_report(Y_test['Third_Place'], predict_KN_thr))"
   ]
  },
  {
   "cell_type": "code",
   "execution_count": 56,
   "metadata": {},
   "outputs": [
    {
     "name": "stdout",
     "output_type": "stream",
     "text": [
      "              precision    recall  f1-score   support\n",
      "\n",
      "           1       0.46      0.24      0.32       163\n",
      "           2       0.42      0.25      0.31      4802\n",
      "           3       0.78      0.92      0.85     21288\n",
      "           4       0.00      0.00      0.00         5\n",
      "           5       0.41      0.17      0.24      1605\n",
      "           6       0.15      0.03      0.06       380\n",
      "           7       0.21      0.09      0.12       280\n",
      "           8       0.33      0.16      0.22       789\n",
      "\n",
      "    accuracy                           0.73     29312\n",
      "   macro avg       0.35      0.23      0.26     29312\n",
      "weighted avg       0.68      0.73      0.69     29312\n",
      "\n"
     ]
    }
   ],
   "source": [
    "print(classification_report(Y_test['Third_Place'], predict_RF_thr))"
   ]
  },
  {
   "cell_type": "code",
   "execution_count": 57,
   "metadata": {},
   "outputs": [
    {
     "name": "stdout",
     "output_type": "stream",
     "text": [
      "              precision    recall  f1-score   support\n",
      "\n",
      "           1       0.00      0.00      0.00       163\n",
      "           2       0.36      0.01      0.02      4802\n",
      "           3       0.73      1.00      0.84     21288\n",
      "           4       0.00      0.00      0.00         5\n",
      "           5       0.25      0.00      0.00      1605\n",
      "           6       0.00      0.00      0.00       380\n",
      "           7       0.32      0.02      0.04       280\n",
      "           8       0.48      0.02      0.03       789\n",
      "\n",
      "    accuracy                           0.73     29312\n",
      "   macro avg       0.27      0.13      0.12     29312\n",
      "weighted avg       0.62      0.73      0.62     29312\n",
      "\n"
     ]
    }
   ],
   "source": [
    "print(classification_report(Y_test['Third_Place'], predict_SVC_thr))"
   ]
  },
  {
   "cell_type": "markdown",
   "metadata": {},
   "source": [
    "Ogólna dokładność jest na poziomie rzędu 70%.\n",
    "Najgorszym modelem okazał się Logistic Regression: 0.00% dokładności jest dla 4 kandydatów. Trochę lepiej jest dla Support Vector Clusters: 0.00% dokładności dla 3 kandydatów.\n",
    "Najlepszymi modelami okazały się: K Nearest Neighbors (ogólna dokładność 70%) oraz Random Forest (ogólna dokładność 73% oraz są lepsze wyniki dla innych parametrów niż w przypadku KN)."
   ]
  },
  {
   "cell_type": "markdown",
   "metadata": {},
   "source": [
    "## PODSUMOWANIE"
   ]
  },
  {
   "cell_type": "markdown",
   "metadata": {},
   "source": [
    "Przeprowadzono analizę danych z wyborów w Rosji w 2018 roku. W wyborach brało udział 72796250 osób, czyli 66.77% od całej ilości wyborców. Pierwsze miejsce zajmuje Putin Władimir Władimirowicz, który ma zdecydowanie większą ilość głosów w porównaniu do innych kandydatów. Następnie idzie Grudinin Paweł Nikołajewicz oraz Baburin Siergiej Nikołajewicz. Inni kandydaci mają znacznie mniej głosów. Zauważono następujące anomalie:\n",
    " - największy procent wyborców jest dla 99 Terytorium poza Federacją Rosyjską: 95.21% od ilości osób powiązanych z tym regionem.\n",
    " - zgubiono około 221112 kart wyborczych, czyli 0.21% od wszystkich kart wyborczych. Według danych z otrzymanego datasetu wynikało, że zgubiono około 1049 kart wyborczych, czyli 0.001% od wszystkich kart wyborczych.\n",
    " - Władimir Putin zajmuje pierwsze miejsce w 97566, czyli 99.86% od ilości wszystkich lokali wyborczych. Tylko w 139 innych lokalach wyborczych wygrywa inny kandydat. W przypadku drugiego miejsca sytuacja wygląda bardziej interesująco, niekwestionowanym liderem jest Grudinin Paweł Nikołajewicz.\n",
    " - w 238 lokalach wyborczych glosowali tylko na Władimira Putina, co daje 24593 głosów, albo 0.04% od całej ilości głosów oddanych na Władimira Putina. Dla pozostałych kandydatów nie ma takich lokali wyborczych. \n",
    "\n",
    "Ponadto przeprowadzono analizę lokali wyborczych, w których Władimir Putin wygrał i przegrał:\n",
    " - W wygranych lokalach wyborczych postanowiło głosować przed datą główną 0.30% od całej ilości osób, a w przegranych lokalach wyborczych 0.22%.\n",
    " - W przypadku wygranych lokalach wyborczych jest prawie trzykrotnie większa ilość zgubionych kart wyborczych.\n",
    " - W lokalach wyborczych, w których Władimi Putin nie zajął pierwsze miejsce, głosowało na około 14% więcej od całej ilości wyborców zarejestrowanych w tych lokalach wyborczych.\n",
    " \n",
    "Podjęto próbę użycia metody Superviced Learning dla przepowiadania wyników wyborów. Jako wartości, które niniejsze algorytmy starały się prewidzieć, to jaki kandydat w konkretnym lokalu wyborczym będzie zajmował odpowiednio pierwsze, drugie i trzecie miejsce. We wszystkich przeprowadzonych analizach postanowiono użyć 4 różne metody Superviced Learning: Logistic Regression, K Nearest Neighbots, Random Forest i Support Vector Clusters. Otrzymano następujące wyniki:\n",
    " - dla pierwszego miejsca wszystkie użyte algorytmy z dokładnością 99.87% przepowiadały wygranie Władimira Putina. Jednak dla pozostałych kandydatów dokładność wynosi 00.00%, co oznacza, że użyte algorytmy nie są w stanie przewidzieć żaden inny wynik dla lokali wyborczych.\n",
    " - dla drugiego miejsca dokładność wszystkich użytych algorytmów wynosiła co najmniej 80%. Najsłabszymi algorytmami okazały się Logistic Regression oraz Support Vector Clusters. Najlepszym modelem jest Random Forest(ma 82% dokładności ogólnej). Trochę gorzej jest dla K Nearest Neighbors (ma 80% dokładności ogólnej i niektóre wartości gorsze niż w przypadku RF).\n",
    " - dla trzecigo miejsca ogólna dokładność użytych algorytmów była na poziomie rzędu 70%. Najgorszym modelem okazał się Logistic Regression: 0.00% dokładności jest dla 4 kandydatów. Trochę lepiej jest dla Support Vector Clusters: 0.00% dokładności dla 3 kandydatów. Najlepszymi modelami okazały się: K Nearest Neighbors (ogólna dokładność 70%) oraz Random Forest (ogólna dokładność 73% oraz są lepsze wyniki dla innych parametrów niż w przypadku KN).\n",
    "\n",
    "Na podstawie powyższych rozważań stwierdzono, że najlepszym i uniwersalnym algorytmem dla tego typu problemu jest Random Forest, chociaż również dobrze można użyć K Nearest Neighbors (jest możliwe, że można by było znaleść lepszą liczbę K, która poprawiłaby dokładność, jednak to nie zostało zrobiono ze względu na duży czas obliczeniowy)."
   ]
  }
 ],
 "metadata": {
  "kernelspec": {
   "display_name": "Python 3",
   "language": "python",
   "name": "python3"
  },
  "language_info": {
   "codemirror_mode": {
    "name": "ipython",
    "version": 3
   },
   "file_extension": ".py",
   "mimetype": "text/x-python",
   "name": "python",
   "nbconvert_exporter": "python",
   "pygments_lexer": "ipython3",
   "version": "3.7.3"
  }
 },
 "nbformat": 4,
 "nbformat_minor": 2
}
